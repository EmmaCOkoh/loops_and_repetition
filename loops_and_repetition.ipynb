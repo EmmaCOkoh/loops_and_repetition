{
 "cells": [
  {
   "cell_type": "markdown",
   "id": "e0d0ced1-a45f-44ee-b219-f78a6c9ff70c",
   "metadata": {},
   "source": [
    "### Practice 1: Say Hello 5 Times"
   ]
  },
  {
   "cell_type": "code",
   "execution_count": 1,
   "id": "bed5e94b-19a2-4c82-8b8f-525e2e9536c3",
   "metadata": {},
   "outputs": [
    {
     "name": "stdout",
     "output_type": "stream",
     "text": [
      "Hello\n",
      "Hello\n",
      "Hello\n",
      "Hello\n",
      "Hello\n"
     ]
    }
   ],
   "source": [
    "for i in range(5):\n",
    "    print(\"Hello\")"
   ]
  },
  {
   "cell_type": "markdown",
   "id": "7e6491f8-f0aa-43f1-8b53-166dd4b0d01b",
   "metadata": {},
   "source": [
    "### Practice 2: Count from 1 to 10"
   ]
  },
  {
   "cell_type": "code",
   "execution_count": 2,
   "id": "32f9545c-9e12-463d-a8c5-123359e4b836",
   "metadata": {},
   "outputs": [
    {
     "name": "stdout",
     "output_type": "stream",
     "text": [
      "1\n",
      "2\n",
      "3\n",
      "4\n",
      "5\n",
      "6\n",
      "7\n",
      "8\n",
      "9\n",
      "10\n"
     ]
    }
   ],
   "source": [
    "for i in range(1, 11):\n",
    "    print(i)\n"
   ]
  },
  {
   "cell_type": "markdown",
   "id": "6dae15d9-c294-4879-82cf-d2d865110441",
   "metadata": {},
   "source": [
    "### Practice 3: Print Even Numbers from 2 to 20"
   ]
  },
  {
   "cell_type": "code",
   "execution_count": 3,
   "id": "ecc5e9e9-ed06-4a2a-879b-e3ae0cf82d5e",
   "metadata": {},
   "outputs": [
    {
     "name": "stdout",
     "output_type": "stream",
     "text": [
      "2\n",
      "4\n",
      "6\n",
      "8\n",
      "10\n",
      "12\n",
      "14\n",
      "16\n",
      "18\n",
      "20\n"
     ]
    }
   ],
   "source": [
    "for i in range (2, 21, 2):\n",
    "    print(i)"
   ]
  },
  {
   "cell_type": "markdown",
   "id": "6ae5f938-a127-4f20-a5be-265fd7b02dc1",
   "metadata": {},
   "source": [
    "### Practice 4: Ask for Names and Greet"
   ]
  },
  {
   "cell_type": "code",
   "execution_count": 5,
   "id": "e3034bfc-cb7a-46e8-b70c-3bb16c6711c0",
   "metadata": {},
   "outputs": [
    {
     "name": "stdin",
     "output_type": "stream",
     "text": [
      "Enter a name: Emmanuel\n"
     ]
    },
    {
     "name": "stdout",
     "output_type": "stream",
     "text": [
      "Hello, Emmanuel!\n"
     ]
    },
    {
     "name": "stdin",
     "output_type": "stream",
     "text": [
      "Enter a name: Emmanuel\n"
     ]
    },
    {
     "name": "stdout",
     "output_type": "stream",
     "text": [
      "Hello, Emmanuel!\n"
     ]
    },
    {
     "name": "stdin",
     "output_type": "stream",
     "text": [
      "Enter a name: Emmanuel\n"
     ]
    },
    {
     "name": "stdout",
     "output_type": "stream",
     "text": [
      "Hello, Emmanuel!\n"
     ]
    }
   ],
   "source": [
    "for i in range(3):\n",
    "    name = input(\"Enter a name:\")\n",
    "    print(f\"Hello, {name}!\")"
   ]
  },
  {
   "cell_type": "markdown",
   "id": "defecf28-3759-40bd-9976-977e6536bbf1",
   "metadata": {},
   "source": [
    "### Practice 5: While Loop - Count Down from 5"
   ]
  },
  {
   "cell_type": "code",
   "execution_count": 1,
   "id": "0393a844-c24d-4d40-8504-3ccfd2f6664a",
   "metadata": {},
   "outputs": [
    {
     "name": "stdout",
     "output_type": "stream",
     "text": [
      "5\n",
      "4\n",
      "3\n",
      "2\n",
      "1\n",
      "Blast off!\n"
     ]
    }
   ],
   "source": [
    "i = 5\n",
    "while i > 0:\n",
    "    print(i)\n",
    "    i = i - 1\n",
    "print(\"Blast off!\")"
   ]
  },
  {
   "cell_type": "markdown",
   "id": "50c9ef2c-7908-495d-85dd-da1447d37ecd",
   "metadata": {},
   "source": [
    "### Practice 6: Secret Code Game"
   ]
  },
  {
   "cell_type": "code",
   "execution_count": 2,
   "id": "4ac1fb2c-ff9f-42b4-922c-d6213c56a02e",
   "metadata": {},
   "outputs": [
    {
     "name": "stdin",
     "output_type": "stream",
     "text": [
      "Say the secret code: hey\n",
      "Say the secret code: hey\n",
      "Say the secret code: open sesame\n"
     ]
    },
    {
     "name": "stdout",
     "output_type": "stream",
     "text": [
      "Door unlocked!\n"
     ]
    }
   ],
   "source": [
    "code = \"\"\n",
    "\n",
    "while code != \"open sesame\":\n",
    "    code = input(\"Say the secret code:\")\n",
    "\n",
    "print(\"Door unlocked!\")\n"
   ]
  },
  {
   "cell_type": "markdown",
   "id": "34f42baa-8476-46c0-bcb7-b0cc246191e2",
   "metadata": {},
   "source": [
    "### Project: Multiplication Table Generator (1 to 12)"
   ]
  },
  {
   "cell_type": "code",
   "execution_count": 6,
   "id": "423d082e-3db5-42f9-9347-48400a0d0f97",
   "metadata": {},
   "outputs": [
    {
     "name": "stdin",
     "output_type": "stream",
     "text": [
      "Enter a number to multiply: 2\n"
     ]
    },
    {
     "name": "stdout",
     "output_type": "stream",
     "text": [
      "Multiplication table for 2\n",
      "2 x 1 = 2\n",
      "2 x 2 = 4\n",
      "2 x 3 = 6\n",
      "2 x 4 = 8\n",
      "2 x 5 = 10\n",
      "2 x 6 = 12\n",
      "2 x 7 = 14\n",
      "2 x 8 = 16\n",
      "2 x 9 = 18\n",
      "2 x 10 = 20\n",
      "2 x 11 = 22\n",
      "2 x 12 = 24\n"
     ]
    }
   ],
   "source": [
    "number = int(input(\"Enter a number to multiply:\"))\n",
    "\n",
    "print(f\"Multiplication table for {number}\")\n",
    "\n",
    "for i in range(1, 13):\n",
    "    result = number * i\n",
    "    print(f\"{number} x {i} = {result}\")"
   ]
  },
  {
   "cell_type": "code",
   "execution_count": null,
   "id": "29bc4891-716a-4f7b-b5c2-0244aea84465",
   "metadata": {},
   "outputs": [],
   "source": []
  }
 ],
 "metadata": {
  "kernelspec": {
   "display_name": "Python 3 (ipykernel)",
   "language": "python",
   "name": "python3"
  },
  "language_info": {
   "codemirror_mode": {
    "name": "ipython",
    "version": 3
   },
   "file_extension": ".py",
   "mimetype": "text/x-python",
   "name": "python",
   "nbconvert_exporter": "python",
   "pygments_lexer": "ipython3",
   "version": "3.12.3"
  }
 },
 "nbformat": 4,
 "nbformat_minor": 5
}
